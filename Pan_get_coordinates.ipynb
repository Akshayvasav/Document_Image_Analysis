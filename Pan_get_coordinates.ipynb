{
 "cells": [
  {
   "cell_type": "code",
   "execution_count": 1,
   "id": "33cab994",
   "metadata": {},
   "outputs": [],
   "source": [
    "import numpy as np\n",
    "#import time\n",
    "import cv2\n",
    "import pandas as pd\n",
    "import matplotlib.pyplot as plt\n",
    "import os,argparse\n",
    "import pytesseract\n",
    "from PIL import Image"
   ]
  },
  {
   "cell_type": "code",
   "execution_count": 2,
   "id": "089fd7ea",
   "metadata": {},
   "outputs": [],
   "source": [
    "INPUT_FILE='pan.jpg'\n",
    "OUTPUT_FILE='predicted.jpg'\n",
    "LABELS_FILE='data/obj.names'\n",
    "CONFIG_FILE='cfg/yolov4-obj.cfg'\n",
    "WEIGHTS_FILE='Yolo_weignts_pan.weights'\n",
    "CONFIDENCE_THRESHOLD=0.3"
   ]
  },
  {
   "cell_type": "code",
   "execution_count": 3,
   "id": "660b0a5f",
   "metadata": {},
   "outputs": [
    {
     "data": {
      "text/plain": [
       "['Name', 'Fathers_name', 'DOB', 'Pan_number']"
      ]
     },
     "execution_count": 3,
     "metadata": {},
     "output_type": "execute_result"
    }
   ],
   "source": [
    "LABELS = open(LABELS_FILE).read().strip().split(\"\\n\")\n",
    "LABELS"
   ]
  },
  {
   "cell_type": "code",
   "execution_count": 4,
   "id": "a5c69da2",
   "metadata": {},
   "outputs": [],
   "source": [
    "#np.random.seed(4)\n",
    "#COLORS = np.random.randint(0, 255, size=(len(LABELS), 3), dtype=\"uint8\")\n",
    "#COLORS"
   ]
  },
  {
   "cell_type": "code",
   "execution_count": 5,
   "id": "67b418fb",
   "metadata": {},
   "outputs": [
    {
     "data": {
      "text/plain": [
       "<dnn_Net 0x7f7c92fe7090>"
      ]
     },
     "execution_count": 5,
     "metadata": {},
     "output_type": "execute_result"
    }
   ],
   "source": [
    "net = cv2.dnn.readNetFromDarknet(CONFIG_FILE, WEIGHTS_FILE)\n",
    "net"
   ]
  },
  {
   "cell_type": "code",
   "execution_count": 6,
   "id": "56bb5851",
   "metadata": {},
   "outputs": [],
   "source": [
    "image = cv2.imread(INPUT_FILE)\n",
    "(H, W) = image.shape[:2]"
   ]
  },
  {
   "cell_type": "code",
   "execution_count": 7,
   "id": "dcd8a3ea",
   "metadata": {},
   "outputs": [],
   "source": [
    "# determine only the *output* layer names that we need from YOLO\n",
    "ln = net.getLayerNames()\n",
    "ln = [ln[i[0] - 1] for i in net.getUnconnectedOutLayers()]"
   ]
  },
  {
   "cell_type": "code",
   "execution_count": 8,
   "id": "ff43d46f",
   "metadata": {},
   "outputs": [
    {
     "name": "stdout",
     "output_type": "stream",
     "text": [
      "[INFO] YOLO took 0.642514 seconds\n"
     ]
    }
   ],
   "source": [
    "blob = cv2.dnn.blobFromImage(image, 1 / 255.0, (416, 416),swapRB=True, crop=False)\n",
    "net.setInput(blob)\n",
    "start = time.time()\n",
    "layerOutputs = net.forward(ln)\n",
    "end = time.time()\n",
    "print(\"[INFO] YOLO took {:.6f} seconds\".format(end - start))\n"
   ]
  },
  {
   "cell_type": "code",
   "execution_count": 28,
   "id": "d7866c4d",
   "metadata": {},
   "outputs": [],
   "source": [
    "boxes = []\n",
    "confidences = []\n",
    "classIDs = []\n",
    "\n",
    "# loop over each of the layer outputs\n",
    "for output in layerOutputs:\n",
    "    # loop over each of the detections\n",
    "    for detection in output:\n",
    "        # extract the class ID and confidence (i.e., probability) of\n",
    "        # the current object detection\n",
    "        scores = detection[5:]\n",
    "        classID = np.argmax(scores)\n",
    "        confidence = scores[classID]\n",
    "\n",
    "        # filter out weak predictions by ensuring the detected\n",
    "        # probability is greater than the minimum probability\n",
    "        if confidence > CONFIDENCE_THRESHOLD:\n",
    "            # scale the bounding box coordinates back relative to the\n",
    "            # size of the image, keeping in mind that YOLO actually\n",
    "            # returns the center (x, y)-coordinates of the bounding\n",
    "            # box followed by the boxes' width and height\n",
    "            box = detection[0:4] * np.array([W, H, W, H])\n",
    "            (centerX, centerY, width, height) = box.astype(\"int\")\n",
    "\n",
    "            # use the center (x, y)-coordinates to derive the top and\n",
    "            # and left corner of the bounding box\n",
    "            x = int(centerX - (width / 2))\n",
    "            y = int(centerY - (height / 2))\n",
    "\n",
    "            # update our list of bounding box coordinates, confidences,\n",
    "            # and class IDs\n",
    "            boxes.append([x, y, int(width), int(height)])\n",
    "            confidences.append(float(confidence))\n",
    "            classIDs.append(classID)\n",
    "#boxes"
   ]
  },
  {
   "cell_type": "code",
   "execution_count": 10,
   "id": "406310c5",
   "metadata": {},
   "outputs": [
    {
     "data": {
      "text/plain": [
       "1"
      ]
     },
     "execution_count": 10,
     "metadata": {},
     "output_type": "execute_result"
    }
   ],
   "source": [
    "classIDs[12]"
   ]
  },
  {
   "cell_type": "code",
   "execution_count": 12,
   "id": "ce26e4a4",
   "metadata": {},
   "outputs": [
    {
     "data": {
      "text/plain": [
       "array([[ 9],\n",
       "       [ 6],\n",
       "       [ 0],\n",
       "       [12]], dtype=int32)"
      ]
     },
     "execution_count": 12,
     "metadata": {},
     "output_type": "execute_result"
    }
   ],
   "source": [
    "# apply non-maxima suppression to suppress weak, overlapping bounding\n",
    "# boxes\n",
    "idxs = cv2.dnn.NMSBoxes(boxes, confidences, CONFIDENCE_THRESHOLD,CONFIDENCE_THRESHOLD)\n",
    "idxs"
   ]
  },
  {
   "cell_type": "code",
   "execution_count": 14,
   "id": "62cafae9",
   "metadata": {},
   "outputs": [
    {
     "name": "stdout",
     "output_type": "stream",
     "text": [
      "9\n",
      "6\n",
      "0\n",
      "12\n"
     ]
    }
   ],
   "source": [
    "for i in idxs.flatten():\n",
    "    print(i)"
   ]
  },
  {
   "cell_type": "code",
   "execution_count": 15,
   "id": "288f1783",
   "metadata": {},
   "outputs": [
    {
     "data": {
      "text/plain": [
       "{'Pan_number': [101, 230, 107, 24],\n",
       " 'DOB': [96, 182, 92, 28],\n",
       " 'Name': [92, 110, 177, 22],\n",
       " 'Fathers_name': [90, 145, 145, 24]}"
      ]
     },
     "execution_count": 15,
     "metadata": {},
     "output_type": "execute_result"
    }
   ],
   "source": [
    "coord_df = pd.DataFrame()\n",
    "master = {}\n",
    "coord = []\n",
    "# ensure at least one detection exists\n",
    "if len(idxs) > 0:\n",
    "    # loop over the indexes we are keeping\n",
    "    a = 0\n",
    "    for i in idxs.flatten():\n",
    "        # extract the bounding box coordinates\n",
    "        #(x, y , w, h) = (boxes[i][0], boxes[i][1], boxes[i][2], boxes[i][3])\n",
    "        #(w, h) = (boxes[i][2], boxes[i][3])\n",
    "        coord = []\n",
    "        #print(class_IDs[i])\n",
    "        x = boxes[i][0]\n",
    "        y = boxes[i][1]\n",
    "        w = boxes[i][2]\n",
    "        h = boxes[i][3]\n",
    "        #res = x+y+w+h\n",
    "        coord.append(x)\n",
    "        coord.append(y)\n",
    "        coord.append(w)\n",
    "        coord.append(h)\n",
    "        \n",
    "        if classIDs[i] == 0:\n",
    "            master['Name'] = coord\n",
    "        elif classIDs[i] == 1:\n",
    "            master['Fathers_name'] = coord\n",
    "        elif classIDs[i] == 2:\n",
    "            master['DOB'] = coord\n",
    "        elif classIDs[i] == 3:\n",
    "            master['Pan_number'] = coord\n",
    "        #print(coord)\n",
    "        #print(a)\n",
    "master\n",
    "        #coord_df.append(a)\n",
    "        #master = dict({a: coord})\n",
    "        #master\n",
    "#coord_df"
   ]
  },
  {
   "cell_type": "code",
   "execution_count": 16,
   "id": "1e76d35e",
   "metadata": {},
   "outputs": [
    {
     "name": "stdout",
     "output_type": "stream",
     "text": [
      "<class 'numpy.ndarray'>\n"
     ]
    },
    {
     "data": {
      "text/plain": [
       "True"
      ]
     },
     "execution_count": 16,
     "metadata": {},
     "output_type": "execute_result"
    },
    {
     "data": {
      "image/png": "[encoded data removed]",
      "text/plain": [
       "<Figure size 432x288 with 1 Axes>"
      ]
     },
     "metadata": {
      "needs_background": "light"
     },
     "output_type": "display_data"
    }
   ],
   "source": [
    "crop = image[230:254, 101:208]\n",
    "print(type(crop))\n",
    "plt.imshow(crop)\n",
    "cv2.imwrite('Pan_Number.jpg', crop)"
   ]
  },
  {
   "cell_type": "code",
   "execution_count": 17,
   "id": "0fb361f8",
   "metadata": {},
   "outputs": [
    {
     "name": "stdout",
     "output_type": "stream",
     "text": [
      "GNJPS6528F\n",
      "\f",
      "\n"
     ]
    }
   ],
   "source": [
    "text = pytesseract.image_to_string(Image.open('Pan_Number.jpg'))\n",
    "print((text))"
   ]
  },
  {
   "cell_type": "code",
   "execution_count": 18,
   "id": "fd6b49ff",
   "metadata": {},
   "outputs": [
    {
     "data": {
      "text/html": [
       "<div>\n",
       "<style scoped>\n",
       "    .dataframe tbody tr th:only-of-type {\n",
       "        vertical-align: middle;\n",
       "    }\n",
       "\n",
       "    .dataframe tbody tr th {\n",
       "        vertical-align: top;\n",
       "    }\n",
       "\n",
       "    .dataframe thead th {\n",
       "        text-align: right;\n",
       "    }\n",
       "</style>\n",
       "<table border=\"1\" class=\"dataframe\">\n",
       "  <thead>\n",
       "    <tr style=\"text-align: right;\">\n",
       "      <th></th>\n",
       "      <th>x</th>\n",
       "      <th>y</th>\n",
       "      <th>w</th>\n",
       "      <th>h</th>\n",
       "    </tr>\n",
       "  </thead>\n",
       "  <tbody>\n",
       "    <tr>\n",
       "      <th>Pan_number</th>\n",
       "      <td>101</td>\n",
       "      <td>230</td>\n",
       "      <td>107</td>\n",
       "      <td>24</td>\n",
       "    </tr>\n",
       "    <tr>\n",
       "      <th>DOB</th>\n",
       "      <td>96</td>\n",
       "      <td>182</td>\n",
       "      <td>92</td>\n",
       "      <td>28</td>\n",
       "    </tr>\n",
       "    <tr>\n",
       "      <th>Name</th>\n",
       "      <td>92</td>\n",
       "      <td>110</td>\n",
       "      <td>177</td>\n",
       "      <td>22</td>\n",
       "    </tr>\n",
       "    <tr>\n",
       "      <th>Fathers_name</th>\n",
       "      <td>90</td>\n",
       "      <td>145</td>\n",
       "      <td>145</td>\n",
       "      <td>24</td>\n",
       "    </tr>\n",
       "  </tbody>\n",
       "</table>\n",
       "</div>"
      ],
      "text/plain": [
       "                x    y    w   h\n",
       "Pan_number    101  230  107  24\n",
       "DOB            96  182   92  28\n",
       "Name           92  110  177  22\n",
       "Fathers_name   90  145  145  24"
      ]
     },
     "execution_count": 18,
     "metadata": {},
     "output_type": "execute_result"
    }
   ],
   "source": [
    "df = pd.DataFrame(master)\n",
    "df = df.T\n",
    "df.columns =['x', 'y', 'w', 'h']\n",
    "df"
   ]
  },
  {
   "cell_type": "code",
   "execution_count": 19,
   "id": "74423d43",
   "metadata": {},
   "outputs": [
    {
     "data": {
      "text/plain": [
       "Pan_number      230\n",
       "DOB             182\n",
       "Name            110\n",
       "Fathers_name    145\n",
       "Name: y, dtype: int64"
      ]
     },
     "execution_count": 19,
     "metadata": {},
     "output_type": "execute_result"
    }
   ],
   "source": [
    "df.iloc[:,1] "
   ]
  },
  {
   "cell_type": "code",
   "execution_count": 20,
   "id": "8b61f101",
   "metadata": {},
   "outputs": [],
   "source": [
    "df['y1'] = df.iloc[:,1] + df.iloc[:,3]\n",
    "df['x1'] = df.iloc[:,0] + df.iloc[:,2]"
   ]
  },
  {
   "cell_type": "code",
   "execution_count": 21,
   "id": "38efe81e",
   "metadata": {},
   "outputs": [
    {
     "data": {
      "text/html": [
       "<div>\n",
       "<style scoped>\n",
       "    .dataframe tbody tr th:only-of-type {\n",
       "        vertical-align: middle;\n",
       "    }\n",
       "\n",
       "    .dataframe tbody tr th {\n",
       "        vertical-align: top;\n",
       "    }\n",
       "\n",
       "    .dataframe thead th {\n",
       "        text-align: right;\n",
       "    }\n",
       "</style>\n",
       "<table border=\"1\" class=\"dataframe\">\n",
       "  <thead>\n",
       "    <tr style=\"text-align: right;\">\n",
       "      <th></th>\n",
       "      <th>x</th>\n",
       "      <th>y</th>\n",
       "      <th>w</th>\n",
       "      <th>h</th>\n",
       "      <th>y1</th>\n",
       "      <th>x1</th>\n",
       "    </tr>\n",
       "  </thead>\n",
       "  <tbody>\n",
       "    <tr>\n",
       "      <th>Pan_number</th>\n",
       "      <td>101</td>\n",
       "      <td>230</td>\n",
       "      <td>107</td>\n",
       "      <td>24</td>\n",
       "      <td>254</td>\n",
       "      <td>208</td>\n",
       "    </tr>\n",
       "    <tr>\n",
       "      <th>DOB</th>\n",
       "      <td>96</td>\n",
       "      <td>182</td>\n",
       "      <td>92</td>\n",
       "      <td>28</td>\n",
       "      <td>210</td>\n",
       "      <td>188</td>\n",
       "    </tr>\n",
       "    <tr>\n",
       "      <th>Name</th>\n",
       "      <td>92</td>\n",
       "      <td>110</td>\n",
       "      <td>177</td>\n",
       "      <td>22</td>\n",
       "      <td>132</td>\n",
       "      <td>269</td>\n",
       "    </tr>\n",
       "    <tr>\n",
       "      <th>Fathers_name</th>\n",
       "      <td>90</td>\n",
       "      <td>145</td>\n",
       "      <td>145</td>\n",
       "      <td>24</td>\n",
       "      <td>169</td>\n",
       "      <td>235</td>\n",
       "    </tr>\n",
       "  </tbody>\n",
       "</table>\n",
       "</div>"
      ],
      "text/plain": [
       "                x    y    w   h   y1   x1\n",
       "Pan_number    101  230  107  24  254  208\n",
       "DOB            96  182   92  28  210  188\n",
       "Name           92  110  177  22  132  269\n",
       "Fathers_name   90  145  145  24  169  235"
      ]
     },
     "execution_count": 21,
     "metadata": {},
     "output_type": "execute_result"
    }
   ],
   "source": [
    "df"
   ]
  },
  {
   "cell_type": "code",
   "execution_count": 22,
   "id": "fbea8ac6",
   "metadata": {},
   "outputs": [
    {
     "data": {
      "text/plain": [
       "230"
      ]
     },
     "execution_count": 22,
     "metadata": {},
     "output_type": "execute_result"
    }
   ],
   "source": [
    "df.iloc[0,1]"
   ]
  },
  {
   "cell_type": "code",
   "execution_count": 27,
   "id": "e3fcdb32",
   "metadata": {},
   "outputs": [
    {
     "data": {
      "text/plain": [
       "{'Pan_number': 'GNJPS6528F',\n",
       " 'DOB': '05/07/1996',\n",
       " 'Name': 'JAY PRAKASH SHARM/',\n",
       " 'Fathers_name': 'PRAMOD SHARMA'}"
      ]
     },
     "execution_count": 27,
     "metadata": {},
     "output_type": "execute_result"
    }
   ],
   "source": [
    "text_dict = {}\n",
    "\n",
    "for i in range(df.shape[0]):\n",
    "    crop = image[df.iloc[i,1]:df.iloc[i,4], df.iloc[i,0]:df.iloc[i,5]]\n",
    "    #print(type(crop))\n",
    "    #plt.imshow(crop)\n",
    "    name = list(df.index)[i] + \".jpg\"\n",
    "    cv2.imwrite(name, crop)\n",
    "    text = pytesseract.image_to_string(Image.open(name))\n",
    "    #print(text.strip())\n",
    "    text_dict[list(df.index)[i]] = text.strip()\n",
    "text_dict"
   ]
  },
  {
   "cell_type": "code",
   "execution_count": null,
   "id": "12d6362c",
   "metadata": {},
   "outputs": [],
   "source": []
  }
 ],
 "metadata": {
  "kernelspec": {
   "display_name": "Python 3",
   "language": "python",
   "name": "python3"
  },
  "language_info": {
   "codemirror_mode": {
    "name": "ipython",
    "version": 3
   },
   "file_extension": ".py",
   "mimetype": "text/x-python",
   "name": "python",
   "nbconvert_exporter": "python",
   "pygments_lexer": "ipython3",
   "version": "3.6.13"
  }
 },
 "nbformat": 4,
 "nbformat_minor": 5
}
